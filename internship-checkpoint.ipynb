{
 "cells": [
  {
   "cell_type": "code",
   "execution_count": 550,
   "metadata": {},
   "outputs": [],
   "source": [
    "import pandas as pd\n",
    "from matplotlib import pyplot as pt\n",
    "import seaborn as sns\n",
    "path=\"\"\n",
    "train = pd.read_csv(path+'C:/Users/shash/Desktop/train.csv')\n",
    "train.head()\n",
    "from sklearn.metrics import mean_squared_error"
   ]
  },
  {
   "cell_type": "code",
   "execution_count": 551,
   "metadata": {},
   "outputs": [
    {
     "data": {
      "text/plain": [
       "<bound method IndexOpsMixin.value_counts of 0        PT7M37S\n",
       "1        PT9M30S\n",
       "2        PT2M16S\n",
       "3        PT4M22S\n",
       "4          PT31S\n",
       "          ...   \n",
       "14994    PT6M10S\n",
       "14995    PT3M56S\n",
       "14996    PT3M13S\n",
       "14997      PT26S\n",
       "14998     PT1M1S\n",
       "Name: duration, Length: 14999, dtype: object>"
      ]
     },
     "execution_count": 551,
     "metadata": {},
     "output_type": "execute_result"
    }
   ],
   "source": [
    "\n",
    "train['duration'].value_counts\n"
   ]
  },
  {
   "cell_type": "code",
   "execution_count": 552,
   "metadata": {},
   "outputs": [
    {
     "data": {
      "text/html": [
       "<div>\n",
       "<style scoped>\n",
       "    .dataframe tbody tr th:only-of-type {\n",
       "        vertical-align: middle;\n",
       "    }\n",
       "\n",
       "    .dataframe tbody tr th {\n",
       "        vertical-align: top;\n",
       "    }\n",
       "\n",
       "    .dataframe thead th {\n",
       "        text-align: right;\n",
       "    }\n",
       "</style>\n",
       "<table border=\"1\" class=\"dataframe\">\n",
       "  <thead>\n",
       "    <tr style=\"text-align: right;\">\n",
       "      <th></th>\n",
       "      <th>vidid</th>\n",
       "      <th>adview</th>\n",
       "      <th>views</th>\n",
       "      <th>likes</th>\n",
       "      <th>dislikes</th>\n",
       "      <th>comment</th>\n",
       "      <th>published</th>\n",
       "      <th>duration</th>\n",
       "    </tr>\n",
       "  </thead>\n",
       "  <tbody>\n",
       "    <tr>\n",
       "      <th>1599</th>\n",
       "      <td>VID_8133</td>\n",
       "      <td>2</td>\n",
       "      <td>161085</td>\n",
       "      <td>830</td>\n",
       "      <td>14</td>\n",
       "      <td>351</td>\n",
       "      <td>2010-12-15</td>\n",
       "      <td>PT24M31S</td>\n",
       "    </tr>\n",
       "    <tr>\n",
       "      <th>1600</th>\n",
       "      <td>VID_14302</td>\n",
       "      <td>2</td>\n",
       "      <td>285158</td>\n",
       "      <td>4045</td>\n",
       "      <td>110</td>\n",
       "      <td>989</td>\n",
       "      <td>2016-01-18</td>\n",
       "      <td>PT5M26S</td>\n",
       "    </tr>\n",
       "    <tr>\n",
       "      <th>1601</th>\n",
       "      <td>VID_10976</td>\n",
       "      <td>18</td>\n",
       "      <td>5603703</td>\n",
       "      <td>67221</td>\n",
       "      <td>2545</td>\n",
       "      <td>2247</td>\n",
       "      <td>2016-07-15</td>\n",
       "      <td>PT6M35S</td>\n",
       "    </tr>\n",
       "    <tr>\n",
       "      <th>1602</th>\n",
       "      <td>VID_23135</td>\n",
       "      <td>1</td>\n",
       "      <td>805245</td>\n",
       "      <td>3710</td>\n",
       "      <td>520</td>\n",
       "      <td>345</td>\n",
       "      <td>2017-04-09</td>\n",
       "      <td>PT39M47S</td>\n",
       "    </tr>\n",
       "    <tr>\n",
       "      <th>1603</th>\n",
       "      <td>VID_6266</td>\n",
       "      <td>450</td>\n",
       "      <td>12022434</td>\n",
       "      <td>16324</td>\n",
       "      <td>2444</td>\n",
       "      <td>752</td>\n",
       "      <td>2012-06-25</td>\n",
       "      <td>PT7M45S</td>\n",
       "    </tr>\n",
       "    <tr>\n",
       "      <th>1604</th>\n",
       "      <td>VID_18068</td>\n",
       "      <td>1</td>\n",
       "      <td>1204798</td>\n",
       "      <td>25235</td>\n",
       "      <td>1089</td>\n",
       "      <td>4521</td>\n",
       "      <td>2016-06-07</td>\n",
       "      <td>PT7M40S</td>\n",
       "    </tr>\n",
       "    <tr>\n",
       "      <th>1605</th>\n",
       "      <td>VID_1193</td>\n",
       "      <td>1</td>\n",
       "      <td>318279</td>\n",
       "      <td>1495</td>\n",
       "      <td>134</td>\n",
       "      <td>487</td>\n",
       "      <td>2016-05-23</td>\n",
       "      <td>PT3M7S</td>\n",
       "    </tr>\n",
       "    <tr>\n",
       "      <th>1606</th>\n",
       "      <td>VID_12055</td>\n",
       "      <td>2</td>\n",
       "      <td>12228</td>\n",
       "      <td>52</td>\n",
       "      <td>6</td>\n",
       "      <td>2</td>\n",
       "      <td>2013-12-01</td>\n",
       "      <td>PT8M12S</td>\n",
       "    </tr>\n",
       "  </tbody>\n",
       "</table>\n",
       "</div>"
      ],
      "text/plain": [
       "          vidid  adview     views  likes dislikes comment   published  \\\n",
       "1599   VID_8133       2    161085    830       14     351  2010-12-15   \n",
       "1600  VID_14302       2    285158   4045      110     989  2016-01-18   \n",
       "1601  VID_10976      18   5603703  67221     2545    2247  2016-07-15   \n",
       "1602  VID_23135       1    805245   3710      520     345  2017-04-09   \n",
       "1603   VID_6266     450  12022434  16324     2444     752  2012-06-25   \n",
       "1604  VID_18068       1   1204798  25235     1089    4521  2016-06-07   \n",
       "1605   VID_1193       1    318279   1495      134     487  2016-05-23   \n",
       "1606  VID_12055       2     12228     52        6       2  2013-12-01   \n",
       "\n",
       "      duration  \n",
       "1599  PT24M31S  \n",
       "1600   PT5M26S  \n",
       "1601   PT6M35S  \n",
       "1602  PT39M47S  \n",
       "1603   PT7M45S  \n",
       "1604   PT7M40S  \n",
       "1605    PT3M7S  \n",
       "1606   PT8M12S  "
      ]
     },
     "execution_count": 552,
     "metadata": {},
     "output_type": "execute_result"
    }
   ],
   "source": [
    "train.iloc[1599:1607,0:8]"
   ]
  },
  {
   "cell_type": "code",
   "execution_count": 553,
   "metadata": {},
   "outputs": [
    {
     "data": {
      "text/plain": [
       "vidid        0\n",
       "adview       0\n",
       "views        0\n",
       "likes        0\n",
       "dislikes     0\n",
       "comment      0\n",
       "published    0\n",
       "duration     0\n",
       "category     0\n",
       "dtype: int64"
      ]
     },
     "execution_count": 553,
     "metadata": {},
     "output_type": "execute_result"
    }
   ],
   "source": [
    "train.isnull().sum()#no null values cool"
   ]
  },
  {
   "cell_type": "code",
   "execution_count": 554,
   "metadata": {},
   "outputs": [
    {
     "data": {
      "text/html": [
       "<div>\n",
       "<style scoped>\n",
       "    .dataframe tbody tr th:only-of-type {\n",
       "        vertical-align: middle;\n",
       "    }\n",
       "\n",
       "    .dataframe tbody tr th {\n",
       "        vertical-align: top;\n",
       "    }\n",
       "\n",
       "    .dataframe thead th {\n",
       "        text-align: right;\n",
       "    }\n",
       "</style>\n",
       "<table border=\"1\" class=\"dataframe\">\n",
       "  <thead>\n",
       "    <tr style=\"text-align: right;\">\n",
       "      <th></th>\n",
       "      <th>vidid</th>\n",
       "      <th>adview</th>\n",
       "      <th>views</th>\n",
       "      <th>likes</th>\n",
       "      <th>dislikes</th>\n",
       "      <th>comment</th>\n",
       "      <th>published</th>\n",
       "      <th>duration</th>\n",
       "      <th>category</th>\n",
       "    </tr>\n",
       "  </thead>\n",
       "  <tbody>\n",
       "    <tr>\n",
       "      <th>0</th>\n",
       "      <td>VID_18655</td>\n",
       "      <td>40</td>\n",
       "      <td>1031602</td>\n",
       "      <td>8523</td>\n",
       "      <td>363</td>\n",
       "      <td>1095</td>\n",
       "      <td>2016-09-14</td>\n",
       "      <td>PT7M37S</td>\n",
       "      <td>6</td>\n",
       "    </tr>\n",
       "    <tr>\n",
       "      <th>1</th>\n",
       "      <td>VID_14135</td>\n",
       "      <td>2</td>\n",
       "      <td>1707</td>\n",
       "      <td>56</td>\n",
       "      <td>2</td>\n",
       "      <td>6</td>\n",
       "      <td>2016-10-01</td>\n",
       "      <td>PT9M30S</td>\n",
       "      <td>4</td>\n",
       "    </tr>\n",
       "    <tr>\n",
       "      <th>2</th>\n",
       "      <td>VID_2187</td>\n",
       "      <td>1</td>\n",
       "      <td>2023</td>\n",
       "      <td>25</td>\n",
       "      <td>0</td>\n",
       "      <td>2</td>\n",
       "      <td>2016-07-02</td>\n",
       "      <td>PT2M16S</td>\n",
       "      <td>3</td>\n",
       "    </tr>\n",
       "    <tr>\n",
       "      <th>3</th>\n",
       "      <td>VID_23096</td>\n",
       "      <td>6</td>\n",
       "      <td>620860</td>\n",
       "      <td>777</td>\n",
       "      <td>161</td>\n",
       "      <td>153</td>\n",
       "      <td>2016-07-27</td>\n",
       "      <td>PT4M22S</td>\n",
       "      <td>8</td>\n",
       "    </tr>\n",
       "    <tr>\n",
       "      <th>4</th>\n",
       "      <td>VID_10175</td>\n",
       "      <td>1</td>\n",
       "      <td>666</td>\n",
       "      <td>1</td>\n",
       "      <td>0</td>\n",
       "      <td>0</td>\n",
       "      <td>2016-06-29</td>\n",
       "      <td>PT31S</td>\n",
       "      <td>4</td>\n",
       "    </tr>\n",
       "  </tbody>\n",
       "</table>\n",
       "</div>"
      ],
      "text/plain": [
       "       vidid  adview    views likes dislikes comment   published duration  \\\n",
       "0  VID_18655      40  1031602  8523      363    1095  2016-09-14  PT7M37S   \n",
       "1  VID_14135       2     1707    56        2       6  2016-10-01  PT9M30S   \n",
       "2   VID_2187       1     2023    25        0       2  2016-07-02  PT2M16S   \n",
       "3  VID_23096       6   620860   777      161     153  2016-07-27  PT4M22S   \n",
       "4  VID_10175       1      666     1        0       0  2016-06-29    PT31S   \n",
       "\n",
       "   category  \n",
       "0         6  \n",
       "1         4  \n",
       "2         3  \n",
       "3         8  \n",
       "4         4  "
      ]
     },
     "execution_count": 554,
     "metadata": {},
     "output_type": "execute_result"
    }
   ],
   "source": [
    "#train['category']=pd.factorize(train.category)[0]\n",
    "category={'A': 1,'B':2,'C':3,'D':4,'E':5,'F':6,'G':7,'H':8}\n",
    "train[\"category\"]=train[\"category\"].map(category)\n",
    "train.head()"
   ]
  },
  {
   "cell_type": "code",
   "execution_count": 555,
   "metadata": {},
   "outputs": [
    {
     "data": {
      "text/html": [
       "<div>\n",
       "<style scoped>\n",
       "    .dataframe tbody tr th:only-of-type {\n",
       "        vertical-align: middle;\n",
       "    }\n",
       "\n",
       "    .dataframe tbody tr th {\n",
       "        vertical-align: top;\n",
       "    }\n",
       "\n",
       "    .dataframe thead th {\n",
       "        text-align: right;\n",
       "    }\n",
       "</style>\n",
       "<table border=\"1\" class=\"dataframe\">\n",
       "  <thead>\n",
       "    <tr style=\"text-align: right;\">\n",
       "      <th></th>\n",
       "      <th>vidid</th>\n",
       "      <th>adview</th>\n",
       "      <th>views</th>\n",
       "      <th>likes</th>\n",
       "      <th>dislikes</th>\n",
       "      <th>comment</th>\n",
       "      <th>published</th>\n",
       "      <th>duration</th>\n",
       "      <th>category</th>\n",
       "    </tr>\n",
       "  </thead>\n",
       "  <tbody>\n",
       "    <tr>\n",
       "      <th>0</th>\n",
       "      <td>VID_18655</td>\n",
       "      <td>40</td>\n",
       "      <td>1031602</td>\n",
       "      <td>8523</td>\n",
       "      <td>363</td>\n",
       "      <td>1095</td>\n",
       "      <td>2016-09-14</td>\n",
       "      <td>PT7M37S</td>\n",
       "      <td>6</td>\n",
       "    </tr>\n",
       "    <tr>\n",
       "      <th>1</th>\n",
       "      <td>VID_14135</td>\n",
       "      <td>2</td>\n",
       "      <td>1707</td>\n",
       "      <td>56</td>\n",
       "      <td>2</td>\n",
       "      <td>6</td>\n",
       "      <td>2016-10-01</td>\n",
       "      <td>PT9M30S</td>\n",
       "      <td>4</td>\n",
       "    </tr>\n",
       "    <tr>\n",
       "      <th>2</th>\n",
       "      <td>VID_2187</td>\n",
       "      <td>1</td>\n",
       "      <td>2023</td>\n",
       "      <td>25</td>\n",
       "      <td>0</td>\n",
       "      <td>2</td>\n",
       "      <td>2016-07-02</td>\n",
       "      <td>PT2M16S</td>\n",
       "      <td>3</td>\n",
       "    </tr>\n",
       "    <tr>\n",
       "      <th>3</th>\n",
       "      <td>VID_23096</td>\n",
       "      <td>6</td>\n",
       "      <td>620860</td>\n",
       "      <td>777</td>\n",
       "      <td>161</td>\n",
       "      <td>153</td>\n",
       "      <td>2016-07-27</td>\n",
       "      <td>PT4M22S</td>\n",
       "      <td>8</td>\n",
       "    </tr>\n",
       "    <tr>\n",
       "      <th>4</th>\n",
       "      <td>VID_10175</td>\n",
       "      <td>1</td>\n",
       "      <td>666</td>\n",
       "      <td>1</td>\n",
       "      <td>0</td>\n",
       "      <td>0</td>\n",
       "      <td>2016-06-29</td>\n",
       "      <td>PT31S</td>\n",
       "      <td>4</td>\n",
       "    </tr>\n",
       "  </tbody>\n",
       "</table>\n",
       "</div>"
      ],
      "text/plain": [
       "       vidid  adview    views likes dislikes comment   published duration  \\\n",
       "0  VID_18655      40  1031602  8523      363    1095  2016-09-14  PT7M37S   \n",
       "1  VID_14135       2     1707    56        2       6  2016-10-01  PT9M30S   \n",
       "2   VID_2187       1     2023    25        0       2  2016-07-02  PT2M16S   \n",
       "3  VID_23096       6   620860   777      161     153  2016-07-27  PT4M22S   \n",
       "4  VID_10175       1      666     1        0       0  2016-06-29    PT31S   \n",
       "\n",
       "   category  \n",
       "0         6  \n",
       "1         4  \n",
       "2         3  \n",
       "3         8  \n",
       "4         4  "
      ]
     },
     "execution_count": 555,
     "metadata": {},
     "output_type": "execute_result"
    }
   ],
   "source": [
    "train.head()"
   ]
  },
  {
   "cell_type": "code",
   "execution_count": 556,
   "metadata": {},
   "outputs": [
    {
     "data": {
      "text/plain": [
       "(14999, 9)"
      ]
     },
     "execution_count": 556,
     "metadata": {},
     "output_type": "execute_result"
    }
   ],
   "source": [
    "train.shape"
   ]
  },
  {
   "cell_type": "code",
   "execution_count": 557,
   "metadata": {},
   "outputs": [],
   "source": [
    "#train['published']=pd.to_datetime(train['published'],format='%Y/%m/%d')\n",
    "train=train[train.views!='F']\n",
    "train=train[train.likes!='F']\n",
    "train=train[train.dislikes!='F']\n",
    "train=train[train.comment!='F']\n",
    "train[\"views\"] = pd.to_numeric(train[\"views\"])\n",
    "train[\"comment\"] = pd.to_numeric(train[\"comment\"])\n",
    "train[\"likes\"] = pd.to_numeric(train[\"likes\"])\n",
    "train[\"dislikes\"] = pd.to_numeric(train[\"dislikes\"])\n",
    "train[\"adview\"]=pd.to_numeric(train[\"adview\"])"
   ]
  },
  {
   "cell_type": "code",
   "execution_count": 558,
   "metadata": {},
   "outputs": [],
   "source": [
    "#train['start']='2017/1/1'\n",
    "from sklearn.preprocessing import LabelEncoder\n",
    "train['duration']=LabelEncoder().fit_transform(train['duration'])\n",
    "train['vidid']=LabelEncoder().fit_transform(train['vidid'])\n",
    "train['published']=LabelEncoder().fit_transform(train['published'])"
   ]
  },
  {
   "cell_type": "code",
   "execution_count": 559,
   "metadata": {},
   "outputs": [],
   "source": [
    "#train['start']=pd.to_datetime(train['start'],format='%Y/%m/%d')\n",
    "import datetime\n",
    "import time"
   ]
  },
  {
   "cell_type": "code",
   "execution_count": 560,
   "metadata": {},
   "outputs": [],
   "source": [
    "#train['upload_days']=(train['start']-train['published']).dt.days\n",
    "def checki(x):\n",
    "    y = x[2:]\n",
    "    h = ''\n",
    "    m = ''\n",
    "    s = ''\n",
    "    mm = ''\n",
    "    P = ['H','M','S']\n",
    "    for i in y:\n",
    "        if i not in P:\n",
    "            mm+=i\n",
    "        else:\n",
    "            if(i==\"H\"):\n",
    "                h = mm\n",
    "                mm = ''\n",
    "            elif(i == \"M\"):\n",
    "                m = mm\n",
    "                mm = ''\n",
    "            else:\n",
    "                s = mm\n",
    "                mm = ''\n",
    "    if(h==''):\n",
    "        h = '00'\n",
    "    if(m == ''):\n",
    "        m = '00'\n",
    "    if(s==''):\n",
    "        s='00'\n",
    "    bp = h+':'+m+':'+s\n",
    "    return bp\n",
    "mp = pd.read_csv(path + \"train.csv\")[\"duration\"]\n",
    "time = mp.apply(checki)\n",
    "def func_sec(time_string):\n",
    "    h, m, s = time_string.split(':')\n",
    "    return int(h) * 3600 + int(m) * 60 + int(s)\n",
    "time1=time.apply(func_sec)\n",
    "train[\"duration\"]=time1"
   ]
  },
  {
   "cell_type": "code",
   "execution_count": 561,
   "metadata": {},
   "outputs": [
    {
     "data": {
      "text/html": [
       "<div>\n",
       "<style scoped>\n",
       "    .dataframe tbody tr th:only-of-type {\n",
       "        vertical-align: middle;\n",
       "    }\n",
       "\n",
       "    .dataframe tbody tr th {\n",
       "        vertical-align: top;\n",
       "    }\n",
       "\n",
       "    .dataframe thead th {\n",
       "        text-align: right;\n",
       "    }\n",
       "</style>\n",
       "<table border=\"1\" class=\"dataframe\">\n",
       "  <thead>\n",
       "    <tr style=\"text-align: right;\">\n",
       "      <th></th>\n",
       "      <th>vidid</th>\n",
       "      <th>adview</th>\n",
       "      <th>views</th>\n",
       "      <th>likes</th>\n",
       "      <th>dislikes</th>\n",
       "      <th>comment</th>\n",
       "      <th>published</th>\n",
       "      <th>duration</th>\n",
       "      <th>category</th>\n",
       "    </tr>\n",
       "  </thead>\n",
       "  <tbody>\n",
       "    <tr>\n",
       "      <th>0</th>\n",
       "      <td>5912</td>\n",
       "      <td>40</td>\n",
       "      <td>1031602</td>\n",
       "      <td>8523</td>\n",
       "      <td>363</td>\n",
       "      <td>1095</td>\n",
       "      <td>2168</td>\n",
       "      <td>457</td>\n",
       "      <td>6</td>\n",
       "    </tr>\n",
       "    <tr>\n",
       "      <th>1</th>\n",
       "      <td>2741</td>\n",
       "      <td>2</td>\n",
       "      <td>1707</td>\n",
       "      <td>56</td>\n",
       "      <td>2</td>\n",
       "      <td>6</td>\n",
       "      <td>2185</td>\n",
       "      <td>570</td>\n",
       "      <td>4</td>\n",
       "    </tr>\n",
       "    <tr>\n",
       "      <th>2</th>\n",
       "      <td>8138</td>\n",
       "      <td>1</td>\n",
       "      <td>2023</td>\n",
       "      <td>25</td>\n",
       "      <td>0</td>\n",
       "      <td>2</td>\n",
       "      <td>2094</td>\n",
       "      <td>136</td>\n",
       "      <td>3</td>\n",
       "    </tr>\n",
       "    <tr>\n",
       "      <th>3</th>\n",
       "      <td>9005</td>\n",
       "      <td>6</td>\n",
       "      <td>620860</td>\n",
       "      <td>777</td>\n",
       "      <td>161</td>\n",
       "      <td>153</td>\n",
       "      <td>2119</td>\n",
       "      <td>262</td>\n",
       "      <td>8</td>\n",
       "    </tr>\n",
       "    <tr>\n",
       "      <th>4</th>\n",
       "      <td>122</td>\n",
       "      <td>1</td>\n",
       "      <td>666</td>\n",
       "      <td>1</td>\n",
       "      <td>0</td>\n",
       "      <td>0</td>\n",
       "      <td>2091</td>\n",
       "      <td>31</td>\n",
       "      <td>4</td>\n",
       "    </tr>\n",
       "  </tbody>\n",
       "</table>\n",
       "</div>"
      ],
      "text/plain": [
       "   vidid  adview    views  likes  dislikes  comment  published  duration  \\\n",
       "0   5912      40  1031602   8523       363     1095       2168       457   \n",
       "1   2741       2     1707     56         2        6       2185       570   \n",
       "2   8138       1     2023     25         0        2       2094       136   \n",
       "3   9005       6   620860    777       161      153       2119       262   \n",
       "4    122       1      666      1         0        0       2091        31   \n",
       "\n",
       "   category  \n",
       "0         6  \n",
       "1         4  \n",
       "2         3  \n",
       "3         8  \n",
       "4         4  "
      ]
     },
     "execution_count": 561,
     "metadata": {},
     "output_type": "execute_result"
    }
   ],
   "source": [
    "train.head()"
   ]
  },
  {
   "cell_type": "code",
   "execution_count": 564,
   "metadata": {},
   "outputs": [
    {
     "data": {
      "text/html": [
       "<div>\n",
       "<style scoped>\n",
       "    .dataframe tbody tr th:only-of-type {\n",
       "        vertical-align: middle;\n",
       "    }\n",
       "\n",
       "    .dataframe tbody tr th {\n",
       "        vertical-align: top;\n",
       "    }\n",
       "\n",
       "    .dataframe thead th {\n",
       "        text-align: right;\n",
       "    }\n",
       "</style>\n",
       "<table border=\"1\" class=\"dataframe\">\n",
       "  <thead>\n",
       "    <tr style=\"text-align: right;\">\n",
       "      <th></th>\n",
       "      <th>vidid</th>\n",
       "      <th>adview</th>\n",
       "      <th>views</th>\n",
       "      <th>likes</th>\n",
       "      <th>dislikes</th>\n",
       "      <th>comment</th>\n",
       "      <th>published</th>\n",
       "      <th>duration</th>\n",
       "      <th>category</th>\n",
       "    </tr>\n",
       "  </thead>\n",
       "  <tbody>\n",
       "    <tr>\n",
       "      <th>14994</th>\n",
       "      <td>9869</td>\n",
       "      <td>2</td>\n",
       "      <td>525949</td>\n",
       "      <td>1137</td>\n",
       "      <td>83</td>\n",
       "      <td>86</td>\n",
       "      <td>1683</td>\n",
       "      <td>370</td>\n",
       "      <td>1</td>\n",
       "    </tr>\n",
       "    <tr>\n",
       "      <th>14995</th>\n",
       "      <td>11758</td>\n",
       "      <td>1</td>\n",
       "      <td>665673</td>\n",
       "      <td>3849</td>\n",
       "      <td>156</td>\n",
       "      <td>569</td>\n",
       "      <td>1838</td>\n",
       "      <td>236</td>\n",
       "      <td>4</td>\n",
       "    </tr>\n",
       "    <tr>\n",
       "      <th>14996</th>\n",
       "      <td>13263</td>\n",
       "      <td>4</td>\n",
       "      <td>3479</td>\n",
       "      <td>16</td>\n",
       "      <td>1</td>\n",
       "      <td>1</td>\n",
       "      <td>1053</td>\n",
       "      <td>193</td>\n",
       "      <td>2</td>\n",
       "    </tr>\n",
       "    <tr>\n",
       "      <th>14997</th>\n",
       "      <td>6736</td>\n",
       "      <td>1</td>\n",
       "      <td>963</td>\n",
       "      <td>0</td>\n",
       "      <td>0</td>\n",
       "      <td>0</td>\n",
       "      <td>222</td>\n",
       "      <td>26</td>\n",
       "      <td>7</td>\n",
       "    </tr>\n",
       "    <tr>\n",
       "      <th>14998</th>\n",
       "      <td>13592</td>\n",
       "      <td>1</td>\n",
       "      <td>15212</td>\n",
       "      <td>22</td>\n",
       "      <td>5</td>\n",
       "      <td>4</td>\n",
       "      <td>1960</td>\n",
       "      <td>61</td>\n",
       "      <td>4</td>\n",
       "    </tr>\n",
       "  </tbody>\n",
       "</table>\n",
       "</div>"
      ],
      "text/plain": [
       "       vidid  adview   views  likes  dislikes  comment  published  duration  \\\n",
       "14994   9869       2  525949   1137        83       86       1683       370   \n",
       "14995  11758       1  665673   3849       156      569       1838       236   \n",
       "14996  13263       4    3479     16         1        1       1053       193   \n",
       "14997   6736       1     963      0         0        0        222        26   \n",
       "14998  13592       1   15212     22         5        4       1960        61   \n",
       "\n",
       "       category  \n",
       "14994         1  \n",
       "14995         4  \n",
       "14996         2  \n",
       "14997         7  \n",
       "14998         4  "
      ]
     },
     "execution_count": 564,
     "metadata": {},
     "output_type": "execute_result"
    }
   ],
   "source": [
    "train.tail()"
   ]
  },
  {
   "cell_type": "code",
   "execution_count": 565,
   "metadata": {},
   "outputs": [
    {
     "data": {
      "text/plain": [
       "vidid        int32\n",
       "adview       int64\n",
       "views        int64\n",
       "likes        int64\n",
       "dislikes     int64\n",
       "comment      int64\n",
       "published    int32\n",
       "duration     int64\n",
       "category     int32\n",
       "dtype: object"
      ]
     },
     "execution_count": 565,
     "metadata": {},
     "output_type": "execute_result"
    }
   ],
   "source": [
    "\n",
    "train.dtypes"
   ]
  },
  {
   "cell_type": "code",
   "execution_count": 566,
   "metadata": {},
   "outputs": [
    {
     "data": {
      "text/html": [
       "<div>\n",
       "<style scoped>\n",
       "    .dataframe tbody tr th:only-of-type {\n",
       "        vertical-align: middle;\n",
       "    }\n",
       "\n",
       "    .dataframe tbody tr th {\n",
       "        vertical-align: top;\n",
       "    }\n",
       "\n",
       "    .dataframe thead th {\n",
       "        text-align: right;\n",
       "    }\n",
       "</style>\n",
       "<table border=\"1\" class=\"dataframe\">\n",
       "  <thead>\n",
       "    <tr style=\"text-align: right;\">\n",
       "      <th></th>\n",
       "      <th>vidid</th>\n",
       "      <th>adview</th>\n",
       "      <th>views</th>\n",
       "      <th>likes</th>\n",
       "      <th>dislikes</th>\n",
       "      <th>comment</th>\n",
       "      <th>published</th>\n",
       "      <th>duration</th>\n",
       "      <th>category</th>\n",
       "    </tr>\n",
       "  </thead>\n",
       "  <tbody>\n",
       "    <tr>\n",
       "      <th>vidid</th>\n",
       "      <td>1.000000</td>\n",
       "      <td>-0.014456</td>\n",
       "      <td>-0.047528</td>\n",
       "      <td>-0.128769</td>\n",
       "      <td>-0.076344</td>\n",
       "      <td>-0.081038</td>\n",
       "      <td>-0.144433</td>\n",
       "      <td>0.006903</td>\n",
       "      <td>-0.038885</td>\n",
       "    </tr>\n",
       "    <tr>\n",
       "      <th>adview</th>\n",
       "      <td>-0.014456</td>\n",
       "      <td>1.000000</td>\n",
       "      <td>0.032807</td>\n",
       "      <td>0.044650</td>\n",
       "      <td>0.036609</td>\n",
       "      <td>0.016104</td>\n",
       "      <td>0.039276</td>\n",
       "      <td>-0.012710</td>\n",
       "      <td>0.008065</td>\n",
       "    </tr>\n",
       "    <tr>\n",
       "      <th>views</th>\n",
       "      <td>-0.047528</td>\n",
       "      <td>0.032807</td>\n",
       "      <td>1.000000</td>\n",
       "      <td>0.726716</td>\n",
       "      <td>0.730320</td>\n",
       "      <td>0.410662</td>\n",
       "      <td>0.020330</td>\n",
       "      <td>0.002509</td>\n",
       "      <td>0.033055</td>\n",
       "    </tr>\n",
       "    <tr>\n",
       "      <th>likes</th>\n",
       "      <td>-0.128769</td>\n",
       "      <td>0.044650</td>\n",
       "      <td>0.726716</td>\n",
       "      <td>1.000000</td>\n",
       "      <td>0.648876</td>\n",
       "      <td>0.651202</td>\n",
       "      <td>0.097183</td>\n",
       "      <td>-0.042572</td>\n",
       "      <td>-0.008875</td>\n",
       "    </tr>\n",
       "    <tr>\n",
       "      <th>dislikes</th>\n",
       "      <td>-0.076344</td>\n",
       "      <td>0.036609</td>\n",
       "      <td>0.730320</td>\n",
       "      <td>0.648876</td>\n",
       "      <td>1.000000</td>\n",
       "      <td>0.532548</td>\n",
       "      <td>0.044100</td>\n",
       "      <td>0.001495</td>\n",
       "      <td>0.011759</td>\n",
       "    </tr>\n",
       "    <tr>\n",
       "      <th>comment</th>\n",
       "      <td>-0.081038</td>\n",
       "      <td>0.016104</td>\n",
       "      <td>0.410662</td>\n",
       "      <td>0.651202</td>\n",
       "      <td>0.532548</td>\n",
       "      <td>1.000000</td>\n",
       "      <td>0.114334</td>\n",
       "      <td>-0.037499</td>\n",
       "      <td>-0.034003</td>\n",
       "    </tr>\n",
       "    <tr>\n",
       "      <th>published</th>\n",
       "      <td>-0.144433</td>\n",
       "      <td>0.039276</td>\n",
       "      <td>0.020330</td>\n",
       "      <td>0.097183</td>\n",
       "      <td>0.044100</td>\n",
       "      <td>0.114334</td>\n",
       "      <td>1.000000</td>\n",
       "      <td>0.011942</td>\n",
       "      <td>-0.056659</td>\n",
       "    </tr>\n",
       "    <tr>\n",
       "      <th>duration</th>\n",
       "      <td>0.006903</td>\n",
       "      <td>-0.012710</td>\n",
       "      <td>0.002509</td>\n",
       "      <td>-0.042572</td>\n",
       "      <td>0.001495</td>\n",
       "      <td>-0.037499</td>\n",
       "      <td>0.011942</td>\n",
       "      <td>1.000000</td>\n",
       "      <td>0.049195</td>\n",
       "    </tr>\n",
       "    <tr>\n",
       "      <th>category</th>\n",
       "      <td>-0.038885</td>\n",
       "      <td>0.008065</td>\n",
       "      <td>0.033055</td>\n",
       "      <td>-0.008875</td>\n",
       "      <td>0.011759</td>\n",
       "      <td>-0.034003</td>\n",
       "      <td>-0.056659</td>\n",
       "      <td>0.049195</td>\n",
       "      <td>1.000000</td>\n",
       "    </tr>\n",
       "  </tbody>\n",
       "</table>\n",
       "</div>"
      ],
      "text/plain": [
       "              vidid    adview     views     likes  dislikes   comment  \\\n",
       "vidid      1.000000 -0.014456 -0.047528 -0.128769 -0.076344 -0.081038   \n",
       "adview    -0.014456  1.000000  0.032807  0.044650  0.036609  0.016104   \n",
       "views     -0.047528  0.032807  1.000000  0.726716  0.730320  0.410662   \n",
       "likes     -0.128769  0.044650  0.726716  1.000000  0.648876  0.651202   \n",
       "dislikes  -0.076344  0.036609  0.730320  0.648876  1.000000  0.532548   \n",
       "comment   -0.081038  0.016104  0.410662  0.651202  0.532548  1.000000   \n",
       "published -0.144433  0.039276  0.020330  0.097183  0.044100  0.114334   \n",
       "duration   0.006903 -0.012710  0.002509 -0.042572  0.001495 -0.037499   \n",
       "category  -0.038885  0.008065  0.033055 -0.008875  0.011759 -0.034003   \n",
       "\n",
       "           published  duration  category  \n",
       "vidid      -0.144433  0.006903 -0.038885  \n",
       "adview      0.039276 -0.012710  0.008065  \n",
       "views       0.020330  0.002509  0.033055  \n",
       "likes       0.097183 -0.042572 -0.008875  \n",
       "dislikes    0.044100  0.001495  0.011759  \n",
       "comment     0.114334 -0.037499 -0.034003  \n",
       "published   1.000000  0.011942 -0.056659  \n",
       "duration    0.011942  1.000000  0.049195  \n",
       "category   -0.056659  0.049195  1.000000  "
      ]
     },
     "execution_count": 566,
     "metadata": {},
     "output_type": "execute_result"
    }
   ],
   "source": [
    "train.corr()"
   ]
  },
  {
   "cell_type": "code",
   "execution_count": 548,
   "metadata": {},
   "outputs": [
    {
     "data": {
      "text/plain": [
       "vidid        int32\n",
       "adview       int64\n",
       "views        int64\n",
       "likes        int64\n",
       "dislikes     int64\n",
       "comment      int64\n",
       "published    int32\n",
       "duration     int64\n",
       "category     int32\n",
       "dtype: object"
      ]
     },
     "execution_count": 548,
     "metadata": {},
     "output_type": "execute_result"
    }
   ],
   "source": [
    "train.dtypes"
   ]
  },
  {
   "cell_type": "code",
   "execution_count": 499,
   "metadata": {},
   "outputs": [],
   "source": [
    "#train['likes'] = pd.to_numeric(train['likes'], errors='coerce')\n",
    "#train['dislikes'] = pd.to_numeric(train['dislikes'], errors='coerce')\n",
    "#train['views'] = pd.to_numeric(train['views'], errors='coerce')\n",
    "#train['comment'] = pd.to_numeric(train['comment'], errors='coerce')"
   ]
  },
  {
   "cell_type": "code",
   "execution_count": 500,
   "metadata": {},
   "outputs": [],
   "source": [
    "#train['likes'] =train['likes'].fillna(train['likes'].mean())\n",
    "#train['dislikes'] =train['dislikes'].fillna(train['dislikes'].mean())\n",
    "#train['views'] =train['views'].fillna(train['views'].mean())\n",
    "#train['comment'] =train['comment'].fillna(train['comment'].mean())"
   ]
  },
  {
   "cell_type": "code",
   "execution_count": 501,
   "metadata": {},
   "outputs": [],
   "source": [
    "#train.iloc[:,[2,3,4,5]] = train.iloc[:,[2,3,4,5]].astype('int')"
   ]
  },
  {
   "cell_type": "code",
   "execution_count": 549,
   "metadata": {},
   "outputs": [
    {
     "data": {
      "text/html": [
       "<div>\n",
       "<style scoped>\n",
       "    .dataframe tbody tr th:only-of-type {\n",
       "        vertical-align: middle;\n",
       "    }\n",
       "\n",
       "    .dataframe tbody tr th {\n",
       "        vertical-align: top;\n",
       "    }\n",
       "\n",
       "    .dataframe thead th {\n",
       "        text-align: right;\n",
       "    }\n",
       "</style>\n",
       "<table border=\"1\" class=\"dataframe\">\n",
       "  <thead>\n",
       "    <tr style=\"text-align: right;\">\n",
       "      <th></th>\n",
       "      <th>vidid</th>\n",
       "      <th>adview</th>\n",
       "      <th>views</th>\n",
       "      <th>likes</th>\n",
       "      <th>dislikes</th>\n",
       "      <th>comment</th>\n",
       "      <th>published</th>\n",
       "      <th>duration</th>\n",
       "      <th>category</th>\n",
       "    </tr>\n",
       "  </thead>\n",
       "  <tbody>\n",
       "    <tr>\n",
       "      <th>vidid</th>\n",
       "      <td>1.000000</td>\n",
       "      <td>-0.014456</td>\n",
       "      <td>-0.047528</td>\n",
       "      <td>-0.128769</td>\n",
       "      <td>-0.076344</td>\n",
       "      <td>-0.081038</td>\n",
       "      <td>-0.144433</td>\n",
       "      <td>0.006903</td>\n",
       "      <td>-0.038885</td>\n",
       "    </tr>\n",
       "    <tr>\n",
       "      <th>adview</th>\n",
       "      <td>-0.014456</td>\n",
       "      <td>1.000000</td>\n",
       "      <td>0.032807</td>\n",
       "      <td>0.044650</td>\n",
       "      <td>0.036609</td>\n",
       "      <td>0.016104</td>\n",
       "      <td>0.039276</td>\n",
       "      <td>-0.012710</td>\n",
       "      <td>0.008065</td>\n",
       "    </tr>\n",
       "    <tr>\n",
       "      <th>views</th>\n",
       "      <td>-0.047528</td>\n",
       "      <td>0.032807</td>\n",
       "      <td>1.000000</td>\n",
       "      <td>0.726716</td>\n",
       "      <td>0.730320</td>\n",
       "      <td>0.410662</td>\n",
       "      <td>0.020330</td>\n",
       "      <td>0.002509</td>\n",
       "      <td>0.033055</td>\n",
       "    </tr>\n",
       "    <tr>\n",
       "      <th>likes</th>\n",
       "      <td>-0.128769</td>\n",
       "      <td>0.044650</td>\n",
       "      <td>0.726716</td>\n",
       "      <td>1.000000</td>\n",
       "      <td>0.648876</td>\n",
       "      <td>0.651202</td>\n",
       "      <td>0.097183</td>\n",
       "      <td>-0.042572</td>\n",
       "      <td>-0.008875</td>\n",
       "    </tr>\n",
       "    <tr>\n",
       "      <th>dislikes</th>\n",
       "      <td>-0.076344</td>\n",
       "      <td>0.036609</td>\n",
       "      <td>0.730320</td>\n",
       "      <td>0.648876</td>\n",
       "      <td>1.000000</td>\n",
       "      <td>0.532548</td>\n",
       "      <td>0.044100</td>\n",
       "      <td>0.001495</td>\n",
       "      <td>0.011759</td>\n",
       "    </tr>\n",
       "    <tr>\n",
       "      <th>comment</th>\n",
       "      <td>-0.081038</td>\n",
       "      <td>0.016104</td>\n",
       "      <td>0.410662</td>\n",
       "      <td>0.651202</td>\n",
       "      <td>0.532548</td>\n",
       "      <td>1.000000</td>\n",
       "      <td>0.114334</td>\n",
       "      <td>-0.037499</td>\n",
       "      <td>-0.034003</td>\n",
       "    </tr>\n",
       "    <tr>\n",
       "      <th>published</th>\n",
       "      <td>-0.144433</td>\n",
       "      <td>0.039276</td>\n",
       "      <td>0.020330</td>\n",
       "      <td>0.097183</td>\n",
       "      <td>0.044100</td>\n",
       "      <td>0.114334</td>\n",
       "      <td>1.000000</td>\n",
       "      <td>0.011942</td>\n",
       "      <td>-0.056659</td>\n",
       "    </tr>\n",
       "    <tr>\n",
       "      <th>duration</th>\n",
       "      <td>0.006903</td>\n",
       "      <td>-0.012710</td>\n",
       "      <td>0.002509</td>\n",
       "      <td>-0.042572</td>\n",
       "      <td>0.001495</td>\n",
       "      <td>-0.037499</td>\n",
       "      <td>0.011942</td>\n",
       "      <td>1.000000</td>\n",
       "      <td>0.049195</td>\n",
       "    </tr>\n",
       "    <tr>\n",
       "      <th>category</th>\n",
       "      <td>-0.038885</td>\n",
       "      <td>0.008065</td>\n",
       "      <td>0.033055</td>\n",
       "      <td>-0.008875</td>\n",
       "      <td>0.011759</td>\n",
       "      <td>-0.034003</td>\n",
       "      <td>-0.056659</td>\n",
       "      <td>0.049195</td>\n",
       "      <td>1.000000</td>\n",
       "    </tr>\n",
       "  </tbody>\n",
       "</table>\n",
       "</div>"
      ],
      "text/plain": [
       "              vidid    adview     views     likes  dislikes   comment  \\\n",
       "vidid      1.000000 -0.014456 -0.047528 -0.128769 -0.076344 -0.081038   \n",
       "adview    -0.014456  1.000000  0.032807  0.044650  0.036609  0.016104   \n",
       "views     -0.047528  0.032807  1.000000  0.726716  0.730320  0.410662   \n",
       "likes     -0.128769  0.044650  0.726716  1.000000  0.648876  0.651202   \n",
       "dislikes  -0.076344  0.036609  0.730320  0.648876  1.000000  0.532548   \n",
       "comment   -0.081038  0.016104  0.410662  0.651202  0.532548  1.000000   \n",
       "published -0.144433  0.039276  0.020330  0.097183  0.044100  0.114334   \n",
       "duration   0.006903 -0.012710  0.002509 -0.042572  0.001495 -0.037499   \n",
       "category  -0.038885  0.008065  0.033055 -0.008875  0.011759 -0.034003   \n",
       "\n",
       "           published  duration  category  \n",
       "vidid      -0.144433  0.006903 -0.038885  \n",
       "adview      0.039276 -0.012710  0.008065  \n",
       "views       0.020330  0.002509  0.033055  \n",
       "likes       0.097183 -0.042572 -0.008875  \n",
       "dislikes    0.044100  0.001495  0.011759  \n",
       "comment     0.114334 -0.037499 -0.034003  \n",
       "published   1.000000  0.011942 -0.056659  \n",
       "duration    0.011942  1.000000  0.049195  \n",
       "category   -0.056659  0.049195  1.000000  "
      ]
     },
     "execution_count": 549,
     "metadata": {},
     "output_type": "execute_result"
    }
   ],
   "source": [
    "train.corr()#as they are not correlated much so using linear regression is not a good idea"
   ]
  },
  {
   "cell_type": "code",
   "execution_count": 567,
   "metadata": {},
   "outputs": [],
   "source": [
    "from sklearn.linear_model import LogisticRegression\n",
    "from sklearn.model_selection import train_test_split"
   ]
  },
  {
   "cell_type": "code",
   "execution_count": 568,
   "metadata": {},
   "outputs": [
    {
     "data": {
      "text/plain": [
       "Index(['views', 'likes', 'dislikes', 'comment', 'published', 'duration',\n",
       "       'category'],\n",
       "      dtype='object')"
      ]
     },
     "execution_count": 568,
     "metadata": {},
     "output_type": "execute_result"
    }
   ],
   "source": [
    "X = train.iloc[:,2:9]\n",
    "y = train.iloc[:,1]\n",
    "X.columns"
   ]
  },
  {
   "cell_type": "code",
   "execution_count": 569,
   "metadata": {},
   "outputs": [],
   "source": [
    "X_train, X_test, y_train, y_test = train_test_split(X, y, test_size=0.2, random_state=42)"
   ]
  },
  {
   "cell_type": "code",
   "execution_count": 570,
   "metadata": {},
   "outputs": [],
   "source": [
    " from sklearn.preprocessing import MinMaxScaler"
   ]
  },
  {
   "cell_type": "code",
   "execution_count": 571,
   "metadata": {},
   "outputs": [],
   "source": [
    "scaler=MinMaxScaler()"
   ]
  },
  {
   "cell_type": "code",
   "execution_count": 572,
   "metadata": {},
   "outputs": [],
   "source": [
    "X_train=scaler.fit_transform(X_train)"
   ]
  },
  {
   "cell_type": "code",
   "execution_count": 573,
   "metadata": {},
   "outputs": [],
   "source": [
    "X_test=scaler.fit_transform(X_test)"
   ]
  },
  {
   "cell_type": "code",
   "execution_count": 592,
   "metadata": {},
   "outputs": [
    {
     "data": {
      "text/plain": [
       "0.17395410595763316"
      ]
     },
     "execution_count": 592,
     "metadata": {},
     "output_type": "execute_result"
    }
   ],
   "source": [
    "X_train.mean()"
   ]
  },
  {
   "cell_type": "code",
   "execution_count": 601,
   "metadata": {},
   "outputs": [],
   "source": [
    "from sklearn import metrics\n",
    "def print_error(X_test, y_test, model_name):\n",
    "    prediction = model_name.predict(X_test)\n",
    "    print('Mean Absolute Error:', metrics.mean_absolute_error(y_test, prediction))\n",
    "    print('Mean Squared Error:', metrics.mean_squared_error(y_test, prediction))\n",
    "    print('Root Mean Squared Error:', np.sqrt(metrics.mean_squared_error(y_test, prediction)))"
   ]
  },
  {
   "cell_type": "code",
   "execution_count": 602,
   "metadata": {},
   "outputs": [
    {
     "name": "stderr",
     "output_type": "stream",
     "text": [
      "C:\\Users\\shash\\Anaconda3\\lib\\site-packages\\sklearn\\linear_model\\logistic.py:432: FutureWarning: Default solver will be changed to 'lbfgs' in 0.22. Specify a solver to silence this warning.\n",
      "  FutureWarning)\n",
      "C:\\Users\\shash\\Anaconda3\\lib\\site-packages\\sklearn\\linear_model\\logistic.py:469: FutureWarning: Default multi_class will be changed to 'auto' in 0.22. Specify the multi_class option to silence this warning.\n",
      "  \"this warning.\", FutureWarning)\n"
     ]
    }
   ],
   "source": [
    "model = LogisticRegression()\n",
    "model.fit(X_train, y_train)\n",
    "y_predict = model.predict(X_test)"
   ]
  },
  {
   "cell_type": "code",
   "execution_count": 603,
   "metadata": {},
   "outputs": [
    {
     "name": "stdout",
     "output_type": "stream",
     "text": [
      "Mean Absolute Error: 3478.310792349727\n",
      "Mean Squared Error: 10901309566.122952\n",
      "Root Mean Squared Error: 104409.336585015\n"
     ]
    }
   ],
   "source": [
    "\n",
    "\n",
    "model_score = model.score(X_test, y_test)\n",
    "print_error(X_test,y_test,model)\n",
    "\n",
    "\n"
   ]
  },
  {
   "cell_type": "code",
   "execution_count": 448,
   "metadata": {},
   "outputs": [],
   "source": [
    "from sklearn import metrics"
   ]
  },
  {
   "cell_type": "code",
   "execution_count": 449,
   "metadata": {},
   "outputs": [
    {
     "name": "stdout",
     "output_type": "stream",
     "text": [
      "[[1259    3    0 ...    0    0    0]\n",
      " [ 429    6    0 ...    0    0    0]\n",
      " [ 226    0    0 ...    0    0    0]\n",
      " ...\n",
      " [   1    0    0 ...    0    0    0]\n",
      " [   1    0    0 ...    0    0    0]\n",
      " [   1    0    0 ...    0    0    0]]\n"
     ]
    }
   ],
   "source": [
    "print(metrics.confusion_matrix(y_test, y_predict))"
   ]
  },
  {
   "cell_type": "code",
   "execution_count": 450,
   "metadata": {},
   "outputs": [],
   "source": [
    "#As we see logistic regression gives a very low value even after preprocessing"
   ]
  },
  {
   "cell_type": "code",
   "execution_count": 457,
   "metadata": {},
   "outputs": [],
   "source": [
    "train=train[train[\"adview\"]<2000000]"
   ]
  },
  {
   "cell_type": "code",
   "execution_count": 458,
   "metadata": {},
   "outputs": [
    {
     "data": {
      "text/plain": [
       "[<matplotlib.lines.Line2D at 0x214148ed548>]"
      ]
     },
     "execution_count": 458,
     "metadata": {},
     "output_type": "execute_result"
    },
    {
     "data": {
      "image/png": "[encoded data removed]",
      "text/plain": [
       "<Figure size 432x288 with 1 Axes>"
      ]
     },
     "metadata": {
      "needs_background": "light"
     },
     "output_type": "display_data"
    }
   ],
   "source": [
    "pt.plot(train[\"adview\"])"
   ]
  },
  {
   "cell_type": "code",
   "execution_count": 459,
   "metadata": {},
   "outputs": [
    {
     "data": {
      "text/html": [
       "<div>\n",
       "<style scoped>\n",
       "    .dataframe tbody tr th:only-of-type {\n",
       "        vertical-align: middle;\n",
       "    }\n",
       "\n",
       "    .dataframe tbody tr th {\n",
       "        vertical-align: top;\n",
       "    }\n",
       "\n",
       "    .dataframe thead th {\n",
       "        text-align: right;\n",
       "    }\n",
       "</style>\n",
       "<table border=\"1\" class=\"dataframe\">\n",
       "  <thead>\n",
       "    <tr style=\"text-align: right;\">\n",
       "      <th></th>\n",
       "      <th>adview</th>\n",
       "      <th>views</th>\n",
       "      <th>likes</th>\n",
       "      <th>dislikes</th>\n",
       "      <th>comment</th>\n",
       "      <th>duration</th>\n",
       "      <th>category</th>\n",
       "      <th>upload_days</th>\n",
       "    </tr>\n",
       "  </thead>\n",
       "  <tbody>\n",
       "    <tr>\n",
       "      <th>adview</th>\n",
       "      <td>1.000000</td>\n",
       "      <td>0.029888</td>\n",
       "      <td>0.045948</td>\n",
       "      <td>0.016243</td>\n",
       "      <td>0.016816</td>\n",
       "      <td>-0.016954</td>\n",
       "      <td>0.006051</td>\n",
       "      <td>-0.053964</td>\n",
       "    </tr>\n",
       "    <tr>\n",
       "      <th>views</th>\n",
       "      <td>0.029888</td>\n",
       "      <td>1.000000</td>\n",
       "      <td>0.719526</td>\n",
       "      <td>0.723944</td>\n",
       "      <td>0.408770</td>\n",
       "      <td>0.007413</td>\n",
       "      <td>0.035313</td>\n",
       "      <td>-0.016018</td>\n",
       "    </tr>\n",
       "    <tr>\n",
       "      <th>likes</th>\n",
       "      <td>0.045948</td>\n",
       "      <td>0.719526</td>\n",
       "      <td>1.000000</td>\n",
       "      <td>0.647720</td>\n",
       "      <td>0.649679</td>\n",
       "      <td>-0.038479</td>\n",
       "      <td>0.052280</td>\n",
       "      <td>-0.089936</td>\n",
       "    </tr>\n",
       "    <tr>\n",
       "      <th>dislikes</th>\n",
       "      <td>0.016243</td>\n",
       "      <td>0.723944</td>\n",
       "      <td>0.647720</td>\n",
       "      <td>1.000000</td>\n",
       "      <td>0.529432</td>\n",
       "      <td>0.001696</td>\n",
       "      <td>-0.004898</td>\n",
       "      <td>-0.039787</td>\n",
       "    </tr>\n",
       "    <tr>\n",
       "      <th>comment</th>\n",
       "      <td>0.016816</td>\n",
       "      <td>0.408770</td>\n",
       "      <td>0.649679</td>\n",
       "      <td>0.529432</td>\n",
       "      <td>1.000000</td>\n",
       "      <td>-0.036007</td>\n",
       "      <td>0.000539</td>\n",
       "      <td>-0.100600</td>\n",
       "    </tr>\n",
       "    <tr>\n",
       "      <th>duration</th>\n",
       "      <td>-0.016954</td>\n",
       "      <td>0.007413</td>\n",
       "      <td>-0.038479</td>\n",
       "      <td>0.001696</td>\n",
       "      <td>-0.036007</td>\n",
       "      <td>1.000000</td>\n",
       "      <td>0.007971</td>\n",
       "      <td>-0.031043</td>\n",
       "    </tr>\n",
       "    <tr>\n",
       "      <th>category</th>\n",
       "      <td>0.006051</td>\n",
       "      <td>0.035313</td>\n",
       "      <td>0.052280</td>\n",
       "      <td>-0.004898</td>\n",
       "      <td>0.000539</td>\n",
       "      <td>0.007971</td>\n",
       "      <td>1.000000</td>\n",
       "      <td>0.072835</td>\n",
       "    </tr>\n",
       "    <tr>\n",
       "      <th>upload_days</th>\n",
       "      <td>-0.053964</td>\n",
       "      <td>-0.016018</td>\n",
       "      <td>-0.089936</td>\n",
       "      <td>-0.039787</td>\n",
       "      <td>-0.100600</td>\n",
       "      <td>-0.031043</td>\n",
       "      <td>0.072835</td>\n",
       "      <td>1.000000</td>\n",
       "    </tr>\n",
       "  </tbody>\n",
       "</table>\n",
       "</div>"
      ],
      "text/plain": [
       "               adview     views     likes  dislikes   comment  duration  \\\n",
       "adview       1.000000  0.029888  0.045948  0.016243  0.016816 -0.016954   \n",
       "views        0.029888  1.000000  0.719526  0.723944  0.408770  0.007413   \n",
       "likes        0.045948  0.719526  1.000000  0.647720  0.649679 -0.038479   \n",
       "dislikes     0.016243  0.723944  0.647720  1.000000  0.529432  0.001696   \n",
       "comment      0.016816  0.408770  0.649679  0.529432  1.000000 -0.036007   \n",
       "duration    -0.016954  0.007413 -0.038479  0.001696 -0.036007  1.000000   \n",
       "category     0.006051  0.035313  0.052280 -0.004898  0.000539  0.007971   \n",
       "upload_days -0.053964 -0.016018 -0.089936 -0.039787 -0.100600 -0.031043   \n",
       "\n",
       "             category  upload_days  \n",
       "adview       0.006051    -0.053964  \n",
       "views        0.035313    -0.016018  \n",
       "likes        0.052280    -0.089936  \n",
       "dislikes    -0.004898    -0.039787  \n",
       "comment      0.000539    -0.100600  \n",
       "duration     0.007971    -0.031043  \n",
       "category     1.000000     0.072835  \n",
       "upload_days  0.072835     1.000000  "
      ]
     },
     "execution_count": 459,
     "metadata": {},
     "output_type": "execute_result"
    }
   ],
   "source": [
    "train.corr()"
   ]
  },
  {
   "cell_type": "code",
   "execution_count": 585,
   "metadata": {},
   "outputs": [],
   "source": [
    "from sklearn.tree import DecisionTreeRegressor"
   ]
  },
  {
   "cell_type": "code",
   "execution_count": 586,
   "metadata": {},
   "outputs": [],
   "source": [
    "dmodel=DecisionTreeRegressor()"
   ]
  },
  {
   "cell_type": "code",
   "execution_count": 587,
   "metadata": {},
   "outputs": [
    {
     "data": {
      "text/plain": [
       "DecisionTreeRegressor(criterion='mse', max_depth=None, max_features=None,\n",
       "                      max_leaf_nodes=None, min_impurity_decrease=0.0,\n",
       "                      min_impurity_split=None, min_samples_leaf=1,\n",
       "                      min_samples_split=2, min_weight_fraction_leaf=0.0,\n",
       "                      presort=False, random_state=None, splitter='best')"
      ]
     },
     "execution_count": 587,
     "metadata": {},
     "output_type": "execute_result"
    }
   ],
   "source": [
    "dmodel.fit(X_train,y_train)"
   ]
  },
  {
   "cell_type": "code",
   "execution_count": 594,
   "metadata": {},
   "outputs": [
    {
     "name": "stdout",
     "output_type": "stream",
     "text": [
      "Mean Absolute Error: 5027.73975409836\n",
      "Mean Squared Error: 11900634320.72541\n",
      "Root Mean Squared Error: 109090.028511892\n"
     ]
    }
   ],
   "source": [
    "print_error(X_test,y_test, dmodel)"
   ]
  },
  {
   "cell_type": "code",
   "execution_count": 595,
   "metadata": {},
   "outputs": [
    {
     "name": "stdout",
     "output_type": "stream",
     "text": [
      "Mean Absolute Error: 3478.338456284153\n",
      "Mean Squared Error: 10901313281.980534\n",
      "Root Mean Squared Error: 104409.35437967487\n"
     ]
    }
   ],
   "source": [
    "from sklearn import svm\n",
    "clf = svm.SVC(gamma=0.025, C=3) \n",
    "clf.fit(X_train , y_train)\n",
    "print_error(X_test,y_test,clf)"
   ]
  },
  {
   "cell_type": "code",
   "execution_count": 596,
   "metadata": {},
   "outputs": [],
   "source": [
    "from sklearn.ensemble import RandomForestRegressor"
   ]
  },
  {
   "cell_type": "code",
   "execution_count": 597,
   "metadata": {},
   "outputs": [],
   "source": [
    "rf=RandomForestRegressor()"
   ]
  },
  {
   "cell_type": "code",
   "execution_count": 598,
   "metadata": {},
   "outputs": [
    {
     "name": "stderr",
     "output_type": "stream",
     "text": [
      "C:\\Users\\shash\\Anaconda3\\lib\\site-packages\\sklearn\\ensemble\\forest.py:245: FutureWarning: The default value of n_estimators will change from 10 in version 0.20 to 100 in 0.22.\n",
      "  \"10 in version 0.20 to 100 in 0.22.\", FutureWarning)\n"
     ]
    },
    {
     "data": {
      "text/plain": [
       "RandomForestRegressor(bootstrap=True, criterion='mse', max_depth=None,\n",
       "                      max_features='auto', max_leaf_nodes=None,\n",
       "                      min_impurity_decrease=0.0, min_impurity_split=None,\n",
       "                      min_samples_leaf=1, min_samples_split=2,\n",
       "                      min_weight_fraction_leaf=0.0, n_estimators=10,\n",
       "                      n_jobs=None, oob_score=False, random_state=None,\n",
       "                      verbose=0, warm_start=False)"
      ]
     },
     "execution_count": 598,
     "metadata": {},
     "output_type": "execute_result"
    }
   ],
   "source": [
    "rf.fit(X_train,y_train)"
   ]
  },
  {
   "cell_type": "code",
   "execution_count": 599,
   "metadata": {},
   "outputs": [
    {
     "name": "stdout",
     "output_type": "stream",
     "text": [
      "Mean Absolute Error: 4897.284631147541\n",
      "Mean Squared Error: 9801592795.906357\n",
      "Root Mean Squared Error: 99002.99387344989\n"
     ]
    }
   ],
   "source": [
    "print_error(X_test,y_test,rf)"
   ]
  },
  {
   "cell_type": "code",
   "execution_count": 604,
   "metadata": {},
   "outputs": [],
   "source": [
    "#as seen svm and logistic gives best result\n"
   ]
  },
  {
   "cell_type": "code",
   "execution_count": null,
   "metadata": {},
   "outputs": [],
   "source": []
  },
  {
   "cell_type": "code",
   "execution_count": null,
   "metadata": {},
   "outputs": [],
   "source": []
  },
  {
   "cell_type": "code",
   "execution_count": null,
   "metadata": {},
   "outputs": [],
   "source": []
  },
  {
   "cell_type": "code",
   "execution_count": null,
   "metadata": {},
   "outputs": [],
   "source": []
  },
  {
   "cell_type": "code",
   "execution_count": null,
   "metadata": {},
   "outputs": [],
   "source": []
  },
  {
   "cell_type": "code",
   "execution_count": null,
   "metadata": {},
   "outputs": [],
   "source": []
  },
  {
   "cell_type": "code",
   "execution_count": null,
   "metadata": {},
   "outputs": [],
   "source": []
  },
  {
   "cell_type": "code",
   "execution_count": null,
   "metadata": {},
   "outputs": [],
   "source": []
  },
  {
   "cell_type": "code",
   "execution_count": null,
   "metadata": {},
   "outputs": [],
   "source": []
  },
  {
   "cell_type": "code",
   "execution_count": null,
   "metadata": {},
   "outputs": [],
   "source": []
  },
  {
   "cell_type": "code",
   "execution_count": null,
   "metadata": {},
   "outputs": [],
   "source": []
  },
  {
   "cell_type": "code",
   "execution_count": null,
   "metadata": {},
   "outputs": [],
   "source": []
  },
  {
   "cell_type": "code",
   "execution_count": null,
   "metadata": {},
   "outputs": [],
   "source": []
  },
  {
   "cell_type": "code",
   "execution_count": null,
   "metadata": {},
   "outputs": [],
   "source": []
  },
  {
   "cell_type": "code",
   "execution_count": null,
   "metadata": {},
   "outputs": [],
   "source": []
  },
  {
   "cell_type": "code",
   "execution_count": null,
   "metadata": {},
   "outputs": [],
   "source": []
  },
  {
   "cell_type": "code",
   "execution_count": null,
   "metadata": {},
   "outputs": [],
   "source": []
  },
  {
   "cell_type": "code",
   "execution_count": null,
   "metadata": {},
   "outputs": [],
   "source": [
    " "
   ]
  },
  {
   "cell_type": "code",
   "execution_count": null,
   "metadata": {},
   "outputs": [],
   "source": []
  },
  {
   "cell_type": "code",
   "execution_count": null,
   "metadata": {},
   "outputs": [],
   "source": []
  },
  {
   "cell_type": "code",
   "execution_count": null,
   "metadata": {},
   "outputs": [],
   "source": []
  },
  {
   "cell_type": "code",
   "execution_count": null,
   "metadata": {},
   "outputs": [],
   "source": []
  },
  {
   "cell_type": "code",
   "execution_count": null,
   "metadata": {},
   "outputs": [],
   "source": []
  },
  {
   "cell_type": "code",
   "execution_count": null,
   "metadata": {},
   "outputs": [],
   "source": []
  },
  {
   "cell_type": "code",
   "execution_count": null,
   "metadata": {},
   "outputs": [],
   "source": []
  },
  {
   "cell_type": "code",
   "execution_count": null,
   "metadata": {},
   "outputs": [],
   "source": []
  },
  {
   "cell_type": "code",
   "execution_count": null,
   "metadata": {},
   "outputs": [],
   "source": []
  },
  {
   "cell_type": "code",
   "execution_count": null,
   "metadata": {},
   "outputs": [],
   "source": []
  },
  {
   "cell_type": "code",
   "execution_count": null,
   "metadata": {},
   "outputs": [],
   "source": []
  },
  {
   "cell_type": "code",
   "execution_count": null,
   "metadata": {},
   "outputs": [],
   "source": []
  },
  {
   "cell_type": "code",
   "execution_count": null,
   "metadata": {},
   "outputs": [],
   "source": []
  },
  {
   "cell_type": "code",
   "execution_count": null,
   "metadata": {},
   "outputs": [],
   "source": []
  },
  {
   "cell_type": "code",
   "execution_count": null,
   "metadata": {},
   "outputs": [],
   "source": []
  },
  {
   "cell_type": "raw",
   "metadata": {},
   "source": []
  },
  {
   "cell_type": "code",
   "execution_count": null,
   "metadata": {},
   "outputs": [],
   "source": []
  },
  {
   "cell_type": "code",
   "execution_count": null,
   "metadata": {},
   "outputs": [],
   "source": []
  },
  {
   "cell_type": "code",
   "execution_count": null,
   "metadata": {},
   "outputs": [],
   "source": []
  },
  {
   "cell_type": "code",
   "execution_count": null,
   "metadata": {},
   "outputs": [],
   "source": []
  },
  {
   "cell_type": "code",
   "execution_count": null,
   "metadata": {},
   "outputs": [],
   "source": []
  },
  {
   "cell_type": "code",
   "execution_count": null,
   "metadata": {},
   "outputs": [],
   "source": []
  },
  {
   "cell_type": "code",
   "execution_count": null,
   "metadata": {},
   "outputs": [],
   "source": []
  },
  {
   "cell_type": "code",
   "execution_count": null,
   "metadata": {},
   "outputs": [],
   "source": []
  },
  {
   "cell_type": "code",
   "execution_count": null,
   "metadata": {},
   "outputs": [],
   "source": []
  },
  {
   "cell_type": "code",
   "execution_count": null,
   "metadata": {},
   "outputs": [],
   "source": [
    "\n",
    "\n",
    "\n"
   ]
  },
  {
   "cell_type": "code",
   "execution_count": null,
   "metadata": {},
   "outputs": [],
   "source": []
  },
  {
   "cell_type": "code",
   "execution_count": null,
   "metadata": {},
   "outputs": [],
   "source": []
  },
  {
   "cell_type": "code",
   "execution_count": null,
   "metadata": {},
   "outputs": [],
   "source": []
  },
  {
   "cell_type": "code",
   "execution_count": null,
   "metadata": {},
   "outputs": [],
   "source": []
  },
  {
   "cell_type": "code",
   "execution_count": null,
   "metadata": {},
   "outputs": [],
   "source": []
  },
  {
   "cell_type": "code",
   "execution_count": null,
   "metadata": {},
   "outputs": [],
   "source": []
  },
  {
   "cell_type": "code",
   "execution_count": null,
   "metadata": {},
   "outputs": [],
   "source": []
  },
  {
   "cell_type": "code",
   "execution_count": null,
   "metadata": {},
   "outputs": [],
   "source": []
  },
  {
   "cell_type": "code",
   "execution_count": null,
   "metadata": {},
   "outputs": [],
   "source": []
  },
  {
   "cell_type": "code",
   "execution_count": null,
   "metadata": {},
   "outputs": [],
   "source": []
  },
  {
   "cell_type": "code",
   "execution_count": null,
   "metadata": {},
   "outputs": [],
   "source": []
  },
  {
   "cell_type": "code",
   "execution_count": null,
   "metadata": {},
   "outputs": [],
   "source": []
  },
  {
   "cell_type": "code",
   "execution_count": null,
   "metadata": {},
   "outputs": [],
   "source": []
  },
  {
   "cell_type": "code",
   "execution_count": null,
   "metadata": {},
   "outputs": [],
   "source": []
  },
  {
   "cell_type": "code",
   "execution_count": null,
   "metadata": {},
   "outputs": [],
   "source": []
  },
  {
   "cell_type": "code",
   "execution_count": null,
   "metadata": {},
   "outputs": [],
   "source": []
  },
  {
   "cell_type": "code",
   "execution_count": null,
   "metadata": {},
   "outputs": [],
   "source": []
  },
  {
   "cell_type": "code",
   "execution_count": null,
   "metadata": {},
   "outputs": [],
   "source": []
  },
  {
   "cell_type": "code",
   "execution_count": null,
   "metadata": {},
   "outputs": [],
   "source": []
  },
  {
   "cell_type": "code",
   "execution_count": null,
   "metadata": {},
   "outputs": [],
   "source": []
  },
  {
   "cell_type": "code",
   "execution_count": null,
   "metadata": {},
   "outputs": [],
   "source": []
  },
  {
   "cell_type": "code",
   "execution_count": null,
   "metadata": {},
   "outputs": [],
   "source": []
  },
  {
   "cell_type": "code",
   "execution_count": null,
   "metadata": {},
   "outputs": [],
   "source": []
  },
  {
   "cell_type": "code",
   "execution_count": null,
   "metadata": {},
   "outputs": [],
   "source": []
  },
  {
   "cell_type": "code",
   "execution_count": null,
   "metadata": {},
   "outputs": [],
   "source": []
  },
  {
   "cell_type": "code",
   "execution_count": null,
   "metadata": {},
   "outputs": [],
   "source": []
  },
  {
   "cell_type": "code",
   "execution_count": null,
   "metadata": {},
   "outputs": [],
   "source": []
  },
  {
   "cell_type": "code",
   "execution_count": null,
   "metadata": {},
   "outputs": [],
   "source": []
  },
  {
   "cell_type": "code",
   "execution_count": null,
   "metadata": {},
   "outputs": [],
   "source": []
  },
  {
   "cell_type": "code",
   "execution_count": null,
   "metadata": {},
   "outputs": [],
   "source": []
  },
  {
   "cell_type": "code",
   "execution_count": null,
   "metadata": {},
   "outputs": [],
   "source": []
  },
  {
   "cell_type": "code",
   "execution_count": null,
   "metadata": {},
   "outputs": [],
   "source": []
  },
  {
   "cell_type": "code",
   "execution_count": null,
   "metadata": {},
   "outputs": [],
   "source": []
  },
  {
   "cell_type": "code",
   "execution_count": null,
   "metadata": {},
   "outputs": [],
   "source": []
  },
  {
   "cell_type": "code",
   "execution_count": null,
   "metadata": {},
   "outputs": [],
   "source": []
  },
  {
   "cell_type": "code",
   "execution_count": null,
   "metadata": {},
   "outputs": [],
   "source": []
  },
  {
   "cell_type": "code",
   "execution_count": null,
   "metadata": {},
   "outputs": [],
   "source": []
  },
  {
   "cell_type": "code",
   "execution_count": null,
   "metadata": {},
   "outputs": [],
   "source": []
  },
  {
   "cell_type": "code",
   "execution_count": null,
   "metadata": {},
   "outputs": [],
   "source": []
  },
  {
   "cell_type": "code",
   "execution_count": null,
   "metadata": {},
   "outputs": [],
   "source": []
  },
  {
   "cell_type": "code",
   "execution_count": null,
   "metadata": {},
   "outputs": [],
   "source": []
  },
  {
   "cell_type": "code",
   "execution_count": null,
   "metadata": {},
   "outputs": [],
   "source": []
  },
  {
   "cell_type": "code",
   "execution_count": null,
   "metadata": {},
   "outputs": [],
   "source": []
  },
  {
   "cell_type": "code",
   "execution_count": null,
   "metadata": {},
   "outputs": [],
   "source": []
  },
  {
   "cell_type": "code",
   "execution_count": null,
   "metadata": {},
   "outputs": [],
   "source": []
  },
  {
   "cell_type": "code",
   "execution_count": null,
   "metadata": {},
   "outputs": [],
   "source": []
  },
  {
   "cell_type": "code",
   "execution_count": null,
   "metadata": {},
   "outputs": [],
   "source": []
  },
  {
   "cell_type": "code",
   "execution_count": null,
   "metadata": {},
   "outputs": [],
   "source": []
  },
  {
   "cell_type": "code",
   "execution_count": null,
   "metadata": {},
   "outputs": [],
   "source": []
  },
  {
   "cell_type": "code",
   "execution_count": null,
   "metadata": {},
   "outputs": [],
   "source": []
  },
  {
   "cell_type": "code",
   "execution_count": null,
   "metadata": {},
   "outputs": [],
   "source": []
  },
  {
   "cell_type": "code",
   "execution_count": 167,
   "metadata": {},
   "outputs": [],
   "source": []
  },
  {
   "cell_type": "code",
   "execution_count": null,
   "metadata": {},
   "outputs": [],
   "source": []
  },
  {
   "cell_type": "code",
   "execution_count": null,
   "metadata": {},
   "outputs": [],
   "source": []
  },
  {
   "cell_type": "code",
   "execution_count": null,
   "metadata": {},
   "outputs": [],
   "source": []
  },
  {
   "cell_type": "code",
   "execution_count": null,
   "metadata": {},
   "outputs": [],
   "source": []
  },
  {
   "cell_type": "code",
   "execution_count": null,
   "metadata": {},
   "outputs": [],
   "source": []
  },
  {
   "cell_type": "code",
   "execution_count": null,
   "metadata": {},
   "outputs": [],
   "source": []
  },
  {
   "cell_type": "code",
   "execution_count": null,
   "metadata": {},
   "outputs": [],
   "source": []
  },
  {
   "cell_type": "code",
   "execution_count": null,
   "metadata": {},
   "outputs": [],
   "source": []
  },
  {
   "cell_type": "code",
   "execution_count": null,
   "metadata": {},
   "outputs": [],
   "source": []
  },
  {
   "cell_type": "code",
   "execution_count": null,
   "metadata": {},
   "outputs": [],
   "source": []
  },
  {
   "cell_type": "code",
   "execution_count": null,
   "metadata": {},
   "outputs": [],
   "source": []
  },
  {
   "cell_type": "code",
   "execution_count": null,
   "metadata": {},
   "outputs": [],
   "source": []
  },
  {
   "cell_type": "code",
   "execution_count": null,
   "metadata": {},
   "outputs": [],
   "source": []
  },
  {
   "cell_type": "code",
   "execution_count": null,
   "metadata": {},
   "outputs": [],
   "source": []
  },
  {
   "cell_type": "code",
   "execution_count": null,
   "metadata": {},
   "outputs": [],
   "source": []
  },
  {
   "cell_type": "code",
   "execution_count": null,
   "metadata": {},
   "outputs": [],
   "source": []
  },
  {
   "cell_type": "code",
   "execution_count": null,
   "metadata": {},
   "outputs": [],
   "source": []
  },
  {
   "cell_type": "code",
   "execution_count": null,
   "metadata": {},
   "outputs": [],
   "source": []
  },
  {
   "cell_type": "code",
   "execution_count": null,
   "metadata": {},
   "outputs": [],
   "source": []
  },
  {
   "cell_type": "code",
   "execution_count": null,
   "metadata": {},
   "outputs": [],
   "source": []
  },
  {
   "cell_type": "code",
   "execution_count": 119,
   "metadata": {},
   "outputs": [],
   "source": []
  },
  {
   "cell_type": "code",
   "execution_count": null,
   "metadata": {},
   "outputs": [],
   "source": []
  },
  {
   "cell_type": "code",
   "execution_count": null,
   "metadata": {},
   "outputs": [],
   "source": []
  },
  {
   "cell_type": "code",
   "execution_count": null,
   "metadata": {},
   "outputs": [],
   "source": []
  },
  {
   "cell_type": "code",
   "execution_count": null,
   "metadata": {},
   "outputs": [],
   "source": []
  },
  {
   "cell_type": "code",
   "execution_count": null,
   "metadata": {},
   "outputs": [],
   "source": []
  },
  {
   "cell_type": "code",
   "execution_count": null,
   "metadata": {},
   "outputs": [],
   "source": []
  },
  {
   "cell_type": "code",
   "execution_count": null,
   "metadata": {},
   "outputs": [],
   "source": []
  },
  {
   "cell_type": "code",
   "execution_count": null,
   "metadata": {},
   "outputs": [],
   "source": []
  },
  {
   "cell_type": "code",
   "execution_count": null,
   "metadata": {},
   "outputs": [],
   "source": []
  },
  {
   "cell_type": "code",
   "execution_count": null,
   "metadata": {},
   "outputs": [],
   "source": []
  },
  {
   "cell_type": "code",
   "execution_count": null,
   "metadata": {},
   "outputs": [],
   "source": []
  },
  {
   "cell_type": "code",
   "execution_count": null,
   "metadata": {},
   "outputs": [],
   "source": []
  },
  {
   "cell_type": "code",
   "execution_count": null,
   "metadata": {},
   "outputs": [],
   "source": []
  },
  {
   "cell_type": "code",
   "execution_count": null,
   "metadata": {},
   "outputs": [],
   "source": []
  },
  {
   "cell_type": "code",
   "execution_count": null,
   "metadata": {},
   "outputs": [],
   "source": []
  },
  {
   "cell_type": "code",
   "execution_count": null,
   "metadata": {},
   "outputs": [],
   "source": []
  },
  {
   "cell_type": "code",
   "execution_count": null,
   "metadata": {},
   "outputs": [],
   "source": []
  },
  {
   "cell_type": "code",
   "execution_count": null,
   "metadata": {},
   "outputs": [],
   "source": []
  },
  {
   "cell_type": "code",
   "execution_count": null,
   "metadata": {},
   "outputs": [],
   "source": []
  },
  {
   "cell_type": "code",
   "execution_count": null,
   "metadata": {},
   "outputs": [],
   "source": []
  },
  {
   "cell_type": "code",
   "execution_count": null,
   "metadata": {},
   "outputs": [],
   "source": []
  },
  {
   "cell_type": "code",
   "execution_count": null,
   "metadata": {},
   "outputs": [],
   "source": []
  },
  {
   "cell_type": "code",
   "execution_count": null,
   "metadata": {},
   "outputs": [],
   "source": []
  },
  {
   "cell_type": "code",
   "execution_count": null,
   "metadata": {},
   "outputs": [],
   "source": []
  },
  {
   "cell_type": "code",
   "execution_count": null,
   "metadata": {},
   "outputs": [],
   "source": []
  },
  {
   "cell_type": "code",
   "execution_count": null,
   "metadata": {},
   "outputs": [],
   "source": []
  },
  {
   "cell_type": "code",
   "execution_count": null,
   "metadata": {},
   "outputs": [],
   "source": []
  },
  {
   "cell_type": "code",
   "execution_count": null,
   "metadata": {},
   "outputs": [],
   "source": []
  },
  {
   "cell_type": "code",
   "execution_count": null,
   "metadata": {},
   "outputs": [],
   "source": []
  },
  {
   "cell_type": "code",
   "execution_count": null,
   "metadata": {},
   "outputs": [],
   "source": []
  },
  {
   "cell_type": "code",
   "execution_count": null,
   "metadata": {},
   "outputs": [],
   "source": []
  },
  {
   "cell_type": "code",
   "execution_count": null,
   "metadata": {},
   "outputs": [],
   "source": []
  },
  {
   "cell_type": "code",
   "execution_count": null,
   "metadata": {},
   "outputs": [],
   "source": []
  },
  {
   "cell_type": "code",
   "execution_count": null,
   "metadata": {},
   "outputs": [],
   "source": []
  },
  {
   "cell_type": "code",
   "execution_count": null,
   "metadata": {},
   "outputs": [],
   "source": []
  },
  {
   "cell_type": "code",
   "execution_count": null,
   "metadata": {},
   "outputs": [],
   "source": []
  },
  {
   "cell_type": "code",
   "execution_count": null,
   "metadata": {},
   "outputs": [],
   "source": []
  },
  {
   "cell_type": "code",
   "execution_count": null,
   "metadata": {},
   "outputs": [],
   "source": []
  },
  {
   "cell_type": "code",
   "execution_count": null,
   "metadata": {},
   "outputs": [],
   "source": []
  },
  {
   "cell_type": "code",
   "execution_count": null,
   "metadata": {},
   "outputs": [],
   "source": []
  },
  {
   "cell_type": "code",
   "execution_count": null,
   "metadata": {},
   "outputs": [],
   "source": []
  },
  {
   "cell_type": "code",
   "execution_count": null,
   "metadata": {},
   "outputs": [],
   "source": []
  },
  {
   "cell_type": "code",
   "execution_count": null,
   "metadata": {},
   "outputs": [],
   "source": []
  },
  {
   "cell_type": "code",
   "execution_count": null,
   "metadata": {},
   "outputs": [],
   "source": []
  }
 ],
 "metadata": {
  "kernelspec": {
   "display_name": "Python 3",
   "language": "python",
   "name": "python3"
  },
  "language_info": {
   "codemirror_mode": {
    "name": "ipython",
    "version": 3
   },
   "file_extension": ".py",
   "mimetype": "text/x-python",
   "name": "python",
   "nbconvert_exporter": "python",
   "pygments_lexer": "ipython3",
   "version": "3.7.4"
  }
 },
 "nbformat": 4,
 "nbformat_minor": 2
}
